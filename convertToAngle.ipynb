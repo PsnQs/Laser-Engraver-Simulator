{
 "cells": [
  {
   "cell_type": "code",
   "execution_count": 20,
   "metadata": {},
   "outputs": [],
   "source": [
    "from StepperMotorControllerModule import *\n",
    "import re"
   ]
  },
  {
   "cell_type": "code",
   "execution_count": null,
   "metadata": {},
   "outputs": [],
   "source": []
  },
  {
   "cell_type": "code",
   "execution_count": 21,
   "metadata": {},
   "outputs": [],
   "source": [
    "s = loadGcode(\"mario.txt\")"
   ]
  },
  {
   "cell_type": "code",
   "execution_count": 22,
   "metadata": {},
   "outputs": [],
   "source": [
    "\n",
    "newGcode = []\n",
    "sout = [re.findall(r\"[XY](.*?)[ \\r\\n]\",sin) for sin in s]\n",
    "minPoint = [99999,99999]\n",
    "maxPoint = [-9999,-9999]\n",
    "for e in sout:\n",
    "    if len(e)==2:\n",
    "        x = float(e[0])\n",
    "        y = float(e[1])\n",
    "        if x>maxPoint[0]:\n",
    "            maxPoint[0]=x\n",
    "        if x<minPoint[0]:\n",
    "            minPoint[0]=x\n",
    "        if y>maxPoint[1]:\n",
    "            maxPoint[1]=y\n",
    "        if y<minPoint[1]:\n",
    "            minPoint[1]=y\n",
    "midPoint = [(minPoint[0]+maxPoint[0])/2,(minPoint[1]+maxPoint[1])/2]\n",
    "\n",
    "    \n",
    "for i in range(len(s)):\n",
    "    if len(sout[i])==2:\n",
    "        angles = linearToAngle(float(sout[i][0]),float(sout[i][1]),midPoint[0],midPoint[1])\n",
    "        newGcode.append(s[i].replace(sout[i][0],str(angles[0])).replace(sout[i][1],str(angles[1])))\n",
    "    else:\n",
    "        newGcode.append(s[i])\n",
    "\n",
    "\n",
    "\n",
    "\n",
    "    \n"
   ]
  },
  {
   "cell_type": "code",
   "execution_count": 8,
   "metadata": {},
   "outputs": [
    {
     "name": "stdout",
     "output_type": "stream",
     "text": [
      "[4.134, 2.324]\n",
      "[97.967, 96.731]\n"
     ]
    }
   ],
   "source": [
    "print(minPoint)\n",
    "print(maxPoint)"
   ]
  },
  {
   "cell_type": "code",
   "execution_count": 23,
   "metadata": {},
   "outputs": [],
   "source": [
    "f = open(\"newMario.txt\", \"w\")\n",
    "[f.write(n+\"\\n\") for n in newGcode]\n",
    "f.close()\n",
    "\n"
   ]
  },
  {
   "cell_type": "code",
   "execution_count": null,
   "metadata": {},
   "outputs": [],
   "source": []
  }
 ],
 "metadata": {
  "kernelspec": {
   "display_name": "Python 3.10.9 ('Work')",
   "language": "python",
   "name": "python3"
  },
  "language_info": {
   "codemirror_mode": {
    "name": "ipython",
    "version": 3
   },
   "file_extension": ".py",
   "mimetype": "text/x-python",
   "name": "python",
   "nbconvert_exporter": "python",
   "pygments_lexer": "ipython3",
   "version": "3.10.9"
  },
  "orig_nbformat": 4,
  "vscode": {
   "interpreter": {
    "hash": "d8238f6cdaa35358b5b54ce45791fc32293c20f6d4405af4f9b039a3b88e5bfe"
   }
  }
 },
 "nbformat": 4,
 "nbformat_minor": 2
}
