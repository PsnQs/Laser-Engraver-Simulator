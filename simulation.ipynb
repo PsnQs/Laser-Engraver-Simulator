{
 "cells": [
  {
   "cell_type": "code",
   "execution_count": 8,
   "metadata": {},
   "outputs": [],
   "source": [
    "import ipyvolume as ipv\n",
    "import numpy as np\n",
    "from StepperMotor import StepperMotor\n",
    "import math"
   ]
  },
  {
   "cell_type": "code",
   "execution_count": 11,
   "metadata": {},
   "outputs": [],
   "source": [
    "thetaMotor = StepperMotor('theta')\n",
    "phiMotor = StepperMotor('phi')\n",
    "#print(thetaMotor.parseGcode('/Users/porto/Documents/Compsci IA/new g-code.txt'))\n",
    "\n",
    "def fillPoints(xin):\n",
    "    nimg = 3\n",
    "    nlaser =  100\n",
    "    xout =[]\n",
    "    for momentIndex in range(len(xin)):# the time index\n",
    "        xoutMoment = []\n",
    "        for positionIndex in range(len(xin[0])-1): # the x,y,z point index\n",
    "            if positionIndex == len(xin[0])-2: #if the position is the one before the last\n",
    "                nscale=nlaser\n",
    "            else:\n",
    "                nscale=nimg\n",
    "            delta = (xin[momentIndex][positionIndex+1]-xin[momentIndex][positionIndex])/nscale\n",
    "            if delta==0 or str(xin[momentIndex][positionIndex])[-5:]=='00001' or str(xin[momentIndex][positionIndex])[-4:]=='e-06':\n",
    "                xoutMoment = xoutMoment + [xin[momentIndex][positionIndex] for i in range(nscale) ]\n",
    "            else:\n",
    "                xoutMoment = xoutMoment + [xin[momentIndex][positionIndex]+i* delta for i in range(nscale)]\n",
    "        xout.append(xoutMoment)\n",
    "    return xout\n",
    "\n",
    "theta = thetaMotor.parseGcode('/Users/porto/Documents/Compsci IA/newMario.txt')\n",
    "phi = phiMotor.parseGcode('/Users/porto/Documents/Compsci IA/newMario.txt')\n",
    "#print(theta[:50])\n",
    "\n",
    "\n"
   ]
  },
  {
   "cell_type": "code",
   "execution_count": 10,
   "metadata": {},
   "outputs": [
    {
     "data": {
      "application/vnd.jupyter.widget-view+json": {
       "model_id": "d76c10f473ae4bd5a4287d4aee7bcf0b",
       "version_major": 2,
       "version_minor": 0
      },
      "text/plain": [
       "Container(children=[HBox(children=(Play(value=0, interval=200, max=1015), FloatSlider(value=0.0, max=1015.0, s…"
      ]
     },
     "metadata": {},
     "output_type": "display_data"
    }
   ],
   "source": [
    "moments = len(theta)\n",
    "start = 0\n",
    "x = []\n",
    "y = []\n",
    "z = []\n",
    "\n",
    "for momentIndex in range(0,moments): # looping through each time\n",
    "    xmoment = [] # these store all the \"turn\" points for each time\n",
    "    zmoment = []\n",
    "    ymoment = []\n",
    "    for j in range(start,start+1+momentIndex): #loop through each instruction needed at time i\n",
    "        flag = False\n",
    "        if theta[j][-5:]=='00001':\n",
    "            flag = True\n",
    "        r = 15*(math.sin(float(phi[j])))\n",
    "        xval = r*(math.cos(float(theta[j])))\n",
    "        zval = r*(math.sin(float(theta[j]))) #find x and z, y will always be 0 until the last point where its 15\n",
    "        xval = float(str(xval)[:8])\n",
    "        zval = float(str(zval)[:8])\n",
    "        yval = 0.000000\n",
    "        if flag:\n",
    "            xval = float(str(xval)+'00001')\n",
    "            zval = float(str(zval)+'00001')\n",
    "            yval = float(str(yval)+'00001')\n",
    "        if j==start+momentIndex: # meaning if we are at the same i as j relative to start\n",
    "            for k in range(moments-1-momentIndex): #fill the rest with x val and z val except for the last val\n",
    "                xmoment.append(xval)\n",
    "                zmoment.append(zval)\n",
    "                ymoment.append(yval)\n",
    "        else:\n",
    "            xmoment.append(xval) #if j and i not same distance away, just add the value to the list\n",
    "            zmoment.append(zval)\n",
    "            ymoment.append(yval)\n",
    "    xmoment.append(0.0) #last value always 0 for x and z\n",
    "    zmoment.append(0.0)\n",
    "    ymoment.append(15.0)\n",
    "    x.append(xmoment) #append all the points for moment in time\n",
    "    z.append(zmoment)\n",
    "    y.append(ymoment)\n",
    "\n",
    "x = fillPoints(x)\n",
    "y = fillPoints(y)\n",
    "z = fillPoints(z)\n",
    "#print(x[0])\n",
    "# print(y[1])\n",
    "# print(z[1])\n",
    "#print(z)\n",
    "#print(y)\n",
    "\n",
    "\n",
    "\n",
    "        \n",
    "        \n",
    "\n",
    "\n",
    "#x = np.array([x[0],x[1],x[2],x[3],x[4],x[5],x[6],x[7],x[8],x[9]])\n",
    "\n",
    "x = np.array(x[0:])\n",
    "y= np.array(y[0:])\n",
    "z = np.array(z[0:])\n",
    "ipv.figure()\n",
    "s = ipv.scatter(x, y, z, marker='sphere', size=0.4)\n",
    "ipv.xlim(-8,8)\n",
    "ipv.ylim(0,15)\n",
    "ipv.zlim(-8,8)\n",
    "ipv.animation_control(s)\n",
    "ipv.show()"
   ]
  },
  {
   "cell_type": "code",
   "execution_count": null,
   "metadata": {},
   "outputs": [],
   "source": []
  },
  {
   "cell_type": "code",
   "execution_count": null,
   "metadata": {},
   "outputs": [],
   "source": [
    "print(theta[:50])"
   ]
  },
  {
   "cell_type": "code",
   "execution_count": null,
   "metadata": {},
   "outputs": [],
   "source": []
  }
 ],
 "metadata": {
  "kernelspec": {
   "display_name": "Work",
   "language": "python",
   "name": "python3"
  },
  "language_info": {
   "codemirror_mode": {
    "name": "ipython",
    "version": 3
   },
   "file_extension": ".py",
   "mimetype": "text/x-python",
   "name": "python",
   "nbconvert_exporter": "python",
   "pygments_lexer": "ipython3",
   "version": "3.10.9"
  },
  "orig_nbformat": 4,
  "vscode": {
   "interpreter": {
    "hash": "d8238f6cdaa35358b5b54ce45791fc32293c20f6d4405af4f9b039a3b88e5bfe"
   }
  }
 },
 "nbformat": 4,
 "nbformat_minor": 2
}
